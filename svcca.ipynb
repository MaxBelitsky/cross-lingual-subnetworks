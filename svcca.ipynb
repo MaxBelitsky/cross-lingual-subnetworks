{
 "cells": [
  {
   "cell_type": "markdown",
   "metadata": {},
   "source": [
    "# SVCCA - Singular Vector Canonical Correlation Analysis\n",
    "\n",
    "Paper: https://arxiv.org/abs/1706.05806\n",
    "\n",
    "Code taken from: https://github.com/google/svcca"
   ]
  },
  {
   "cell_type": "code",
   "execution_count": 1,
   "metadata": {},
   "outputs": [
    {
     "data": {
      "text/plain": [
       "dict_keys(['coef_x', 'invsqrt_xx', 'full_coef_x', 'full_invsqrt_xx', 'coef_y', 'invsqrt_yy', 'full_coef_y', 'full_invsqrt_yy', 'neuron_means1', 'neuron_means2', 'cca_coef1', 'cca_coef2', 'x_idxs', 'y_idxs', 'mean', 'sum'])"
      ]
     },
     "execution_count": 1,
     "metadata": {},
     "output_type": "execute_result"
    }
   ],
   "source": [
    "import numpy as np\n",
    "from cca_core import get_cca_similarity\n",
    "\n",
    "# Toy Example of CCA in action\n",
    "\n",
    "# assume X_fake has 100 neurons and we have their activations on 1000 datapoints\n",
    "A_fake = np.random.randn(100, 2000)\n",
    "# Y_fake has 50 neurons with activations on the same 1000 datapoints\n",
    "# Note X and Y do *not* have to have the same number of neurons\n",
    "B_fake = np.random.randn(50, 2000)\n",
    "\n",
    "# computing CCA simliarty between X_fake, Y_fake\n",
    "# We expect similarity should be very low, because the fake activations are not correlated\n",
    "results = get_cca_similarity(A_fake, B_fake, verbose=False)\n",
    "results.keys()"
   ]
  },
  {
   "cell_type": "code",
   "execution_count": 2,
   "metadata": {},
   "outputs": [
    {
     "data": {
      "text/plain": [
       "(0.21413328053544411, 0.21413328053544411)"
      ]
     },
     "execution_count": 2,
     "metadata": {},
     "output_type": "execute_result"
    }
   ],
   "source": [
    "results[\"mean\"]"
   ]
  },
  {
   "cell_type": "code",
   "execution_count": 3,
   "metadata": {},
   "outputs": [
    {
     "data": {
      "text/plain": [
       "0.20855189831600204"
      ]
     },
     "execution_count": 3,
     "metadata": {},
     "output_type": "execute_result"
    }
   ],
   "source": [
    "np.mean(results[\"cca_coef1\"])"
   ]
  },
  {
   "cell_type": "code",
   "execution_count": 4,
   "metadata": {},
   "outputs": [],
   "source": [
    "from cross_lingual_subnets.cka import cka"
   ]
  },
  {
   "cell_type": "code",
   "execution_count": 5,
   "metadata": {},
   "outputs": [],
   "source": [
    "import numpy as np\n",
    "\n",
    "# Compare the representations of 2 networks\n",
    "# One has 8 layers and 300 dimensional encodings\n",
    "# The other has 10 layers and 300 dimensional encodings\n",
    "# Both evaluated on the same 1k examples\n",
    "repr1 = np.random.randn(8, 300, 1000)\n",
    "repr2 = np.random.randn(10, 300, 1000)"
   ]
  },
  {
   "cell_type": "code",
   "execution_count": 6,
   "metadata": {},
   "outputs": [],
   "source": [
    "cka_results = dict()\n",
    "for i, layer_reprs1 in enumerate(repr1):\n",
    "    res = []\n",
    "    for layer_reprs2 in repr2:\n",
    "        res.append(cka(layer_reprs1, layer_reprs2))\n",
    "    cka_results[i] = res"
   ]
  },
  {
   "cell_type": "code",
   "execution_count": 7,
   "metadata": {},
   "outputs": [],
   "source": [
    "import pandas as pd\n",
    "\n",
    "df = pd.DataFrame(cka_results)\n",
    "df = df.sort_index(ascending=False)"
   ]
  },
  {
   "cell_type": "code",
   "execution_count": 8,
   "metadata": {},
   "outputs": [
    {
     "data": {
      "text/plain": [
       "[Text(0.5, 23.52222222222222, 'Layer'), Text(50.722222222222214, 0.5, 'Layer')]"
      ]
     },
     "execution_count": 8,
     "metadata": {},
     "output_type": "execute_result"
    },
    {
     "data": {
      "image/png": "[encoded data removed]",
      "text/plain": [
       "<Figure size 640x480 with 2 Axes>"
      ]
     },
     "metadata": {},
     "output_type": "display_data"
    }
   ],
   "source": [
    "import seaborn as sns\n",
    "\n",
    "ax = sns.heatmap(df)\n",
    "ax.set(xlabel=\"Layer\", ylabel=\"Layer\")"
   ]
  },
  {
   "cell_type": "markdown",
   "metadata": {},
   "source": [
    "## Full vs pruned model representation similarity\n",
    "\n",
    "TODO:\n",
    "Similarity of full vs pruned model one language:\n",
    "- take finetuned model representation of english, pruned model representation of english\n",
    "- over layers, compute SVCCA and CKA scores\n",
    "- do this for a english and other language pairs"
   ]
  },
  {
   "cell_type": "code",
   "execution_count": null,
   "metadata": {},
   "outputs": [],
   "source": []
  },
  {
   "cell_type": "markdown",
   "metadata": {},
   "source": [
    "## Language representation similarity"
   ]
  },
  {
   "cell_type": "markdown",
   "metadata": {},
   "source": [
    "TODO:\n",
    "Similarity of full vs pruned model cross languages:\n",
    "- take finetuned model representation of english, pruned model representation of spanish\n",
    "- over layers, compute SVCCA and CKA scores\n",
    "- do this for a english and other language pairs"
   ]
  },
  {
   "cell_type": "code",
   "execution_count": null,
   "metadata": {},
   "outputs": [],
   "source": []
  }
 ],
 "metadata": {
  "kernelspec": {
   "display_name": ".venv",
   "language": "python",
   "name": "python3"
  },
  "language_info": {
   "codemirror_mode": {
    "name": "ipython",
    "version": 3
   },
   "file_extension": ".py",
   "mimetype": "text/x-python",
   "name": "python",
   "nbconvert_exporter": "python",
   "pygments_lexer": "ipython3",
   "version": "3.11.8"
  }
 },
 "nbformat": 4,
 "nbformat_minor": 2
}
